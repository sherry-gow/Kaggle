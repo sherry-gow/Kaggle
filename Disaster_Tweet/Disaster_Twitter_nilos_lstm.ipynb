{
 "cells": [
  {
   "cell_type": "markdown",
   "id": "6f1b2ec9",
   "metadata": {},
   "source": [
    "# Kaggle - Disaster Twitter - NLP Classification\n",
    "Date:  2021-07-27\n",
    "Source: https://www.kaggle.com/nikosraftogiannis/predicting-disaster-with-neural-networks-lstm#Make-some-analysis-on-validation-predictions\n",
    "Model: \n",
    "- tensorflow.keras.lstm\n",
    "\n",
    "Features:\n",
    "- text\n",
    "- word embedding\n",
    "\n",
    "Libraries:\n",
    "- tensorflow.keras\n",
    "- spaCy\n",
    "- tf.keras.layers.experimental.preprocessing.TextVectorization\n",
    "\n",
    "Takeaways:\n",
    "- this is and extremely concise, and well done notebook by nikosraftoginnis\n",
    "- word embedding using spaCy en_core_web_lg pre-trained package\n",
    "- the word vector is stored in a embedding_matrix with shape (22699, 300)\n",
    "- used early stopping with optimizer NAdam \n",
    "- F1_Score class \n",
    "- tensorflow.keras callbacks\n",
    "\n"
   ]
  },
  {
   "cell_type": "code",
   "execution_count": 4,
   "id": "d1de57df",
   "metadata": {},
   "outputs": [],
   "source": [
    "import numpy as np # linear algebra\n",
    "import pandas as pd # data processing, CSV file I/O (e.g. pd.read_csv)\n",
    "import spacy\n",
    "import tensorflow as tf"
   ]
  },
  {
   "cell_type": "code",
   "execution_count": 7,
   "id": "923f446a",
   "metadata": {},
   "outputs": [],
   "source": [
    "ds_train=pd.read_csv('train.csv' )\n",
    "ds_test=pd.read_csv('test.csv' )"
   ]
  },
  {
   "cell_type": "code",
   "execution_count": 8,
   "id": "807d684a",
   "metadata": {},
   "outputs": [
    {
     "data": {
      "text/html": [
       "<div>\n",
       "<style scoped>\n",
       "    .dataframe tbody tr th:only-of-type {\n",
       "        vertical-align: middle;\n",
       "    }\n",
       "\n",
       "    .dataframe tbody tr th {\n",
       "        vertical-align: top;\n",
       "    }\n",
       "\n",
       "    .dataframe thead th {\n",
       "        text-align: right;\n",
       "    }\n",
       "</style>\n",
       "<table border=\"1\" class=\"dataframe\">\n",
       "  <thead>\n",
       "    <tr style=\"text-align: right;\">\n",
       "      <th></th>\n",
       "      <th>id</th>\n",
       "      <th>keyword</th>\n",
       "      <th>location</th>\n",
       "      <th>text</th>\n",
       "      <th>target</th>\n",
       "    </tr>\n",
       "  </thead>\n",
       "  <tbody>\n",
       "    <tr>\n",
       "      <th>0</th>\n",
       "      <td>1</td>\n",
       "      <td>NaN</td>\n",
       "      <td>NaN</td>\n",
       "      <td>Our Deeds are the Reason of this #earthquake M...</td>\n",
       "      <td>1</td>\n",
       "    </tr>\n",
       "    <tr>\n",
       "      <th>1</th>\n",
       "      <td>4</td>\n",
       "      <td>NaN</td>\n",
       "      <td>NaN</td>\n",
       "      <td>Forest fire near La Ronge Sask. Canada</td>\n",
       "      <td>1</td>\n",
       "    </tr>\n",
       "    <tr>\n",
       "      <th>2</th>\n",
       "      <td>5</td>\n",
       "      <td>NaN</td>\n",
       "      <td>NaN</td>\n",
       "      <td>All residents asked to 'shelter in place' are ...</td>\n",
       "      <td>1</td>\n",
       "    </tr>\n",
       "    <tr>\n",
       "      <th>3</th>\n",
       "      <td>6</td>\n",
       "      <td>NaN</td>\n",
       "      <td>NaN</td>\n",
       "      <td>13,000 people receive #wildfires evacuation or...</td>\n",
       "      <td>1</td>\n",
       "    </tr>\n",
       "    <tr>\n",
       "      <th>4</th>\n",
       "      <td>7</td>\n",
       "      <td>NaN</td>\n",
       "      <td>NaN</td>\n",
       "      <td>Just got sent this photo from Ruby #Alaska as ...</td>\n",
       "      <td>1</td>\n",
       "    </tr>\n",
       "    <tr>\n",
       "      <th>...</th>\n",
       "      <td>...</td>\n",
       "      <td>...</td>\n",
       "      <td>...</td>\n",
       "      <td>...</td>\n",
       "      <td>...</td>\n",
       "    </tr>\n",
       "    <tr>\n",
       "      <th>7608</th>\n",
       "      <td>10869</td>\n",
       "      <td>NaN</td>\n",
       "      <td>NaN</td>\n",
       "      <td>Two giant cranes holding a bridge collapse int...</td>\n",
       "      <td>1</td>\n",
       "    </tr>\n",
       "    <tr>\n",
       "      <th>7609</th>\n",
       "      <td>10870</td>\n",
       "      <td>NaN</td>\n",
       "      <td>NaN</td>\n",
       "      <td>@aria_ahrary @TheTawniest The out of control w...</td>\n",
       "      <td>1</td>\n",
       "    </tr>\n",
       "    <tr>\n",
       "      <th>7610</th>\n",
       "      <td>10871</td>\n",
       "      <td>NaN</td>\n",
       "      <td>NaN</td>\n",
       "      <td>M1.94 [01:04 UTC]?5km S of Volcano Hawaii. htt...</td>\n",
       "      <td>1</td>\n",
       "    </tr>\n",
       "    <tr>\n",
       "      <th>7611</th>\n",
       "      <td>10872</td>\n",
       "      <td>NaN</td>\n",
       "      <td>NaN</td>\n",
       "      <td>Police investigating after an e-bike collided ...</td>\n",
       "      <td>1</td>\n",
       "    </tr>\n",
       "    <tr>\n",
       "      <th>7612</th>\n",
       "      <td>10873</td>\n",
       "      <td>NaN</td>\n",
       "      <td>NaN</td>\n",
       "      <td>The Latest: More Homes Razed by Northern Calif...</td>\n",
       "      <td>1</td>\n",
       "    </tr>\n",
       "  </tbody>\n",
       "</table>\n",
       "<p>7613 rows × 5 columns</p>\n",
       "</div>"
      ],
      "text/plain": [
       "         id keyword location  \\\n",
       "0         1     NaN      NaN   \n",
       "1         4     NaN      NaN   \n",
       "2         5     NaN      NaN   \n",
       "3         6     NaN      NaN   \n",
       "4         7     NaN      NaN   \n",
       "...     ...     ...      ...   \n",
       "7608  10869     NaN      NaN   \n",
       "7609  10870     NaN      NaN   \n",
       "7610  10871     NaN      NaN   \n",
       "7611  10872     NaN      NaN   \n",
       "7612  10873     NaN      NaN   \n",
       "\n",
       "                                                   text  target  \n",
       "0     Our Deeds are the Reason of this #earthquake M...       1  \n",
       "1                Forest fire near La Ronge Sask. Canada       1  \n",
       "2     All residents asked to 'shelter in place' are ...       1  \n",
       "3     13,000 people receive #wildfires evacuation or...       1  \n",
       "4     Just got sent this photo from Ruby #Alaska as ...       1  \n",
       "...                                                 ...     ...  \n",
       "7608  Two giant cranes holding a bridge collapse int...       1  \n",
       "7609  @aria_ahrary @TheTawniest The out of control w...       1  \n",
       "7610  M1.94 [01:04 UTC]?5km S of Volcano Hawaii. htt...       1  \n",
       "7611  Police investigating after an e-bike collided ...       1  \n",
       "7612  The Latest: More Homes Razed by Northern Calif...       1  \n",
       "\n",
       "[7613 rows x 5 columns]"
      ]
     },
     "execution_count": 8,
     "metadata": {},
     "output_type": "execute_result"
    }
   ],
   "source": [
    "train"
   ]
  },
  {
   "cell_type": "code",
   "execution_count": 9,
   "id": "3e3e2d5c",
   "metadata": {},
   "outputs": [
    {
     "name": "stdout",
     "output_type": "stream",
     "text": [
      "sequence_length_train: 157\n",
      "sequence_length_test: 151\n"
     ]
    }
   ],
   "source": [
    "sequence_length_train = ds_train['text'].map(lambda x: len(x)).max()\n",
    "sequence_length_test=ds_test['text'].map(lambda x: len(x)).max()\n",
    "print (f'sequence_length_train: {sequence_length_train}')\n",
    "print (f'sequence_length_test: {sequence_length_test}')"
   ]
  },
  {
   "cell_type": "markdown",
   "id": "dacb4f54",
   "metadata": {},
   "source": [
    "## Build Models"
   ]
  },
  {
   "cell_type": "markdown",
   "id": "409835e5",
   "metadata": {},
   "source": [
    "### build embedding matrix"
   ]
  },
  {
   "cell_type": "code",
   "execution_count": 10,
   "id": "1fa3a26d",
   "metadata": {},
   "outputs": [],
   "source": [
    "vectorization_layer = tf.keras.layers.experimental.preprocessing.TextVectorization(\n",
    "    standardize = 'lower_and_strip_punctuation',\n",
    "    output_mode='int'\n",
    ")\n",
    "vectorization_layer.adapt(np.array(ds_train.text))"
   ]
  },
  {
   "cell_type": "code",
   "execution_count": 11,
   "id": "f87129ba",
   "metadata": {},
   "outputs": [],
   "source": [
    "nlp = spacy.load('en_core_web_lg')"
   ]
  },
  {
   "cell_type": "code",
   "execution_count": 12,
   "id": "f421ffa9",
   "metadata": {},
   "outputs": [],
   "source": [
    "embedding_dim = len(nlp('and').vector)"
   ]
  },
  {
   "cell_type": "code",
   "execution_count": 13,
   "id": "1ae88bde",
   "metadata": {},
   "outputs": [
    {
     "data": {
      "text/plain": [
       "(22699, 300)"
      ]
     },
     "execution_count": 13,
     "metadata": {},
     "output_type": "execute_result"
    }
   ],
   "source": [
    "vector_vocabulary = vectorization_layer.get_vocabulary()\n",
    "vocab_size = len(vector_vocabulary)\n",
    "embedding_matrix = np.zeros((vocab_size, embedding_dim))\n",
    "embedding_matrix.shape"
   ]
  },
  {
   "cell_type": "code",
   "execution_count": 14,
   "id": "e8882b86",
   "metadata": {},
   "outputs": [
    {
     "name": "stdout",
     "output_type": "stream",
     "text": [
      "Wall time: 3min 1s\n"
     ]
    }
   ],
   "source": [
    "%%time\n",
    "for i, word in enumerate(vector_vocabulary):\n",
    "    embedding_matrix[i] = nlp(word).vector"
   ]
  },
  {
   "cell_type": "markdown",
   "id": "807375b8",
   "metadata": {},
   "source": [
    "### create model"
   ]
  },
  {
   "cell_type": "code",
   "execution_count": 15,
   "id": "ce602bbe",
   "metadata": {},
   "outputs": [],
   "source": [
    "model = tf.keras.Sequential([\n",
    "    vectorization_layer,\n",
    "    tf.keras.layers.Embedding(\n",
    "        vocab_size,\n",
    "        embedding_dim,\n",
    "        embeddings_initializer=tf.keras.initializers.Constant(embedding_matrix)),\n",
    "    tf.keras.layers.Bidirectional(tf.keras.layers.LSTM(16, return_sequences=True)),\n",
    "    tf.keras.layers.GlobalAveragePooling1D(),\n",
    "    tf.keras.layers.Dense(1, activation='sigmoid')\n",
    "])"
   ]
  },
  {
   "cell_type": "code",
   "execution_count": 16,
   "id": "795d2e89",
   "metadata": {},
   "outputs": [],
   "source": [
    "class F1_Score(tf.keras.metrics.Metric):\n",
    "\n",
    "    def __init__(self, name='f1_score', **kwargs):\n",
    "        super().__init__(name=name, **kwargs)\n",
    "        self.f1 = self.add_weight(name='f1', initializer='zeros')\n",
    "        self.precision_fn = tf.metrics.Precision(thresholds=0.5)\n",
    "        self.recall_fn = tf.metrics.Recall(thresholds=0.5)\n",
    "\n",
    "    def update_state(self, y_true, y_pred, sample_weight=None):\n",
    "        p = self.precision_fn(y_true, y_pred)\n",
    "        r = self.recall_fn(y_true, y_pred)\n",
    "        self.f1.assign(2 * ((p * r) / (p + r + 1e-6)))\n",
    "\n",
    "    def result(self):\n",
    "        return self.f1\n",
    "\n",
    "    def reset_states(self):\n",
    "        self.precision_fn.reset_states()\n",
    "        self.recall_fn.reset_states()\n",
    "        self.f1.assign(0)"
   ]
  },
  {
   "cell_type": "code",
   "execution_count": 17,
   "id": "eed0654b",
   "metadata": {},
   "outputs": [
    {
     "name": "stdout",
     "output_type": "stream",
     "text": [
      "Wall time: 32 ms\n"
     ]
    }
   ],
   "source": [
    "%%time\n",
    "opt = tf.keras.optimizers.Nadam(0.01)\n",
    "model.compile(optimizer=opt, loss='binary_crossentropy', metrics=['accuracy', F1_Score()])"
   ]
  },
  {
   "cell_type": "code",
   "execution_count": 18,
   "id": "eb8f5255",
   "metadata": {},
   "outputs": [
    {
     "data": {
      "text/plain": [
       "((7613,), (7613,))"
      ]
     },
     "execution_count": 18,
     "metadata": {},
     "output_type": "execute_result"
    }
   ],
   "source": [
    "X,y=np.array(ds_train['text']), np.array(ds_train['target'])\n",
    "X.shape, y.shape"
   ]
  },
  {
   "cell_type": "markdown",
   "id": "7eaa8ff7",
   "metadata": {},
   "source": [
    "### Fit model"
   ]
  },
  {
   "cell_type": "code",
   "execution_count": 19,
   "id": "239bf69d",
   "metadata": {},
   "outputs": [
    {
     "name": "stdout",
     "output_type": "stream",
     "text": [
      "Epoch 1/100\n",
      "54/54 [==============================] - ETA: 0s - loss: 0.4683 - accuracy: 0.7869 - f1_score: 0.7266"
     ]
    },
    {
     "name": "stderr",
     "output_type": "stream",
     "text": [
      "C:\\Users\\sherry.gow\\anaconda3\\lib\\site-packages\\tensorflow\\python\\keras\\metrics.py:254: UserWarning: Metric F1_Score implements a `reset_states()` method; rename it to `reset_state()` (without the final \"s\"). The name `reset_states()` has been deprecated to improve API consistency.\n",
      "  warnings.warn('Metric %s implements a `reset_states()` method; rename it '\n"
     ]
    },
    {
     "name": "stdout",
     "output_type": "stream",
     "text": [
      "54/54 [==============================] - 18s 226ms/step - loss: 0.4683 - accuracy: 0.7869 - f1_score: 0.7266 - val_loss: 0.4490 - val_accuracy: 0.8031 - val_f1_score: 0.7604\n",
      "Epoch 2/100\n",
      "54/54 [==============================] - 11s 204ms/step - loss: 0.2520 - accuracy: 0.9000 - f1_score: 0.8770 - val_loss: 0.5152 - val_accuracy: 0.7848 - val_f1_score: 0.7644\n",
      "Epoch 3/100\n",
      "54/54 [==============================] - 11s 209ms/step - loss: 0.0700 - accuracy: 0.9766 - f1_score: 0.9724 - val_loss: 0.6418 - val_accuracy: 0.7428 - val_f1_score: 0.7344ccu\n",
      "Epoch 4/100\n",
      "54/54 [==============================] - 11s 206ms/step - loss: 0.0278 - accuracy: 0.9893 - f1_score: 0.9875 - val_loss: 0.7939 - val_accuracy: 0.7415 - val_f1_score: 0.7312\n",
      "Epoch 5/100\n",
      "54/54 [==============================] - 11s 209ms/step - loss: 0.0154 - accuracy: 0.9943 - f1_score: 0.9933 - val_loss: 0.9344 - val_accuracy: 0.7441 - val_f1_score: 0.7361\n",
      "Epoch 6/100\n",
      "54/54 [==============================] - 11s 210ms/step - loss: 0.0122 - accuracy: 0.9943 - f1_score: 0.9933 - val_loss: 0.9715 - val_accuracy: 0.7415 - val_f1_score: 0.7245\n",
      "Epoch 7/100\n",
      "54/54 [==============================] - 11s 202ms/step - loss: 0.0104 - accuracy: 0.9947 - f1_score: 0.9938 - val_loss: 1.1003 - val_accuracy: 0.7336 - val_f1_score: 0.7268\n",
      "Wall time: 1min 25s\n"
     ]
    }
   ],
   "source": [
    "%%time\n",
    "history = model.fit(\n",
    "    X,y,\n",
    "    epochs=100,\n",
    "    batch_size=128,\n",
    "    validation_split=0.1,\n",
    "    callbacks=[\n",
    "        tf.keras.callbacks.EarlyStopping(monitor='val_f1_score', mode='max', patience=5, restore_best_weights=True)\n",
    "    ]    \n",
    ")"
   ]
  },
  {
   "cell_type": "markdown",
   "id": "70a9b840",
   "metadata": {},
   "source": [
    "### plots"
   ]
  },
  {
   "cell_type": "markdown",
   "id": "48c370b3",
   "metadata": {},
   "source": [
    "#### loss"
   ]
  },
  {
   "cell_type": "code",
   "execution_count": 20,
   "id": "a7cd857b",
   "metadata": {},
   "outputs": [
    {
     "data": {
      "image/png": "[encoded data removed]",
      "text/plain": [
       "<Figure size 720x576 with 1 Axes>"
      ]
     },
     "metadata": {},
     "output_type": "display_data"
    }
   ],
   "source": [
    "import matplotlib.pyplot as plt\n",
    "plt.plot(history.history['loss'], label='loss')\n",
    "plt.plot(history.history['val_loss'], label='val_loss')\n",
    "plt.legend()\n",
    "plt.show()"
   ]
  },
  {
   "cell_type": "markdown",
   "id": "02fdee02",
   "metadata": {},
   "source": [
    "#### accuracy"
   ]
  },
  {
   "cell_type": "code",
   "execution_count": 21,
   "id": "cad84ad9",
   "metadata": {},
   "outputs": [
    {
     "data": {
      "image/png": "[encoded data removed]",
      "text/plain": [
       "<Figure size 720x576 with 1 Axes>"
      ]
     },
     "metadata": {},
     "output_type": "display_data"
    }
   ],
   "source": [
    "# Plotting accuracies\n",
    "plt.plot(history.history['accuracy'], label='acc')\n",
    "plt.plot(history.history['val_accuracy'], label='val_acc')\n",
    "plt.legend()\n",
    "plt.show()"
   ]
  },
  {
   "cell_type": "markdown",
   "id": "9f1a4288",
   "metadata": {},
   "source": [
    "#### F1 Score"
   ]
  },
  {
   "cell_type": "code",
   "execution_count": 22,
   "id": "6095c2ef",
   "metadata": {},
   "outputs": [
    {
     "data": {
      "image/png": "[encoded data removed]",
      "text/plain": [
       "<Figure size 720x576 with 1 Axes>"
      ]
     },
     "metadata": {},
     "output_type": "display_data"
    }
   ],
   "source": [
    "plt.plot(history.history['f1_score'], label='f1_score')\n",
    "plt.plot(history.history['val_f1_score'], label='val_f1_score')\n",
    "plt.legend()\n",
    "plt.show()"
   ]
  },
  {
   "cell_type": "markdown",
   "id": "ffe7460f",
   "metadata": {},
   "source": [
    "## Making Prediction"
   ]
  },
  {
   "cell_type": "code",
   "execution_count": 23,
   "id": "5e4d8a45",
   "metadata": {},
   "outputs": [],
   "source": [
    "prediction_scores = model.predict(np.array(ds_test.text))\n",
    "prediction_classes = prediction_scores > 0.5 "
   ]
  },
  {
   "cell_type": "code",
   "execution_count": 24,
   "id": "8d4ab907",
   "metadata": {},
   "outputs": [],
   "source": [
    "submission = pd.DataFrame({'id': ds_test['id'], 'target': prediction_classes.flatten().astype(int)})\n",
    "submission.to_csv('submission_niko_lstm.csv', index=False)"
   ]
  },
  {
   "cell_type": "code",
   "execution_count": null,
   "id": "b4d9b2ce",
   "metadata": {},
   "outputs": [],
   "source": []
  }
 ],
 "metadata": {
  "kernelspec": {
   "display_name": "Python 3",
   "language": "python",
   "name": "python3"
  },
  "language_info": {
   "codemirror_mode": {
    "name": "ipython",
    "version": 3
   },
   "file_extension": ".py",
   "mimetype": "text/x-python",
   "name": "python",
   "nbconvert_exporter": "python",
   "pygments_lexer": "ipython3",
   "version": "3.8.8"
  },
  "toc": {
   "base_numbering": 1,
   "nav_menu": {},
   "number_sections": true,
   "sideBar": true,
   "skip_h1_title": false,
   "title_cell": "Table of Contents",
   "title_sidebar": "Contents",
   "toc_cell": false,
   "toc_position": {},
   "toc_section_display": true,
   "toc_window_display": false
  }
 },
 "nbformat": 4,
 "nbformat_minor": 5
}
